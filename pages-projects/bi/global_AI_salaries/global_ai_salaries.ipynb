{
 "cells": [
  {
   "cell_type": "markdown",
   "metadata": {},
   "source": [
    "# <center><font color = lightblue>Global AI Salaries Project</font></center>\n",
    "Junho, 2024 \n",
    "\n",
    "## <center>1. Definição do problema</center>\n",
    "<br>\n",
    "\n",
    "Neste projetos utilizaremos uma base de dados disponibilizada no Kaggle sobre salários dos profissionais da área de IA, Machine Learning e Data Science.\n",
    "\n",
    "Neste notebook serão utilizadas técnicas para fazer a limpeza dos dados e o pré processamento para a utilização no **Microsoft Power BI**.\n",
    "\n",
    "<br>"
   ]
  },
  {
   "cell_type": "markdown",
   "metadata": {},
   "source": [
    "Importando a versão Python"
   ]
  },
  {
   "cell_type": "code",
   "execution_count": 1,
   "metadata": {},
   "outputs": [
    {
     "name": "stdout",
     "output_type": "stream",
     "text": [
      "Versão da linguaguem: 3.12.4\n"
     ]
    }
   ],
   "source": [
    "from platform import python_version\n",
    "print('Versão da linguaguem:', python_version())"
   ]
  },
  {
   "cell_type": "markdown",
   "metadata": {},
   "source": [
    "Instalação e importação dos pacostes"
   ]
  },
  {
   "cell_type": "code",
   "execution_count": 2,
   "metadata": {},
   "outputs": [],
   "source": [
    "#!pip install -q -U watermark\n",
    "#!pip install numpy\n",
    "#!pip install pandas"
   ]
  },
  {
   "cell_type": "code",
   "execution_count": 3,
   "metadata": {},
   "outputs": [],
   "source": [
    "import numpy as np\n",
    "import pandas as pd\n",
    "import seaborn as sns\n",
    "import matplotlib.pyplot as plt"
   ]
  },
  {
   "cell_type": "code",
   "execution_count": 4,
   "metadata": {},
   "outputs": [
    {
     "name": "stdout",
     "output_type": "stream",
     "text": [
      "Author: Global AI Salaries Project - Porfolio Lucas\n",
      "\n",
      "numpy     : 1.26.4\n",
      "pandas    : 2.2.2\n",
      "seaborn   : 0.13.2\n",
      "matplotlib: 3.8.4\n",
      "\n"
     ]
    }
   ],
   "source": [
    "%reload_ext watermark\n",
    "%watermark -a \"Global AI Salaries Project - Porfolio Lucas\" --iversions"
   ]
  },
  {
   "cell_type": "markdown",
   "metadata": {},
   "source": [
    "## <br><center>2. Carregando os dados</center><br>"
   ]
  },
  {
   "cell_type": "code",
   "execution_count": 5,
   "metadata": {},
   "outputs": [],
   "source": [
    "df = pd.read_csv('global_ai_ml_data_salaries.csv')"
   ]
  },
  {
   "cell_type": "markdown",
   "metadata": {},
   "source": [
    "Vamos verificar o tamanho em linhas e colunas do dataset"
   ]
  },
  {
   "cell_type": "code",
   "execution_count": 6,
   "metadata": {},
   "outputs": [
    {
     "data": {
      "text/plain": [
       "(20246, 11)"
      ]
     },
     "execution_count": 6,
     "metadata": {},
     "output_type": "execute_result"
    }
   ],
   "source": [
    "df.shape"
   ]
  },
  {
   "cell_type": "markdown",
   "metadata": {},
   "source": [
    "Vamos observar uma amostra dos dados."
   ]
  },
  {
   "cell_type": "code",
   "execution_count": 7,
   "metadata": {},
   "outputs": [
    {
     "data": {
      "text/html": [
       "<div>\n",
       "<style scoped>\n",
       "    .dataframe tbody tr th:only-of-type {\n",
       "        vertical-align: middle;\n",
       "    }\n",
       "\n",
       "    .dataframe tbody tr th {\n",
       "        vertical-align: top;\n",
       "    }\n",
       "\n",
       "    .dataframe thead th {\n",
       "        text-align: right;\n",
       "    }\n",
       "</style>\n",
       "<table border=\"1\" class=\"dataframe\">\n",
       "  <thead>\n",
       "    <tr style=\"text-align: right;\">\n",
       "      <th></th>\n",
       "      <th>work_year</th>\n",
       "      <th>experience_level</th>\n",
       "      <th>employment_type</th>\n",
       "      <th>job_title</th>\n",
       "      <th>salary</th>\n",
       "      <th>salary_currency</th>\n",
       "      <th>salary_in_usd</th>\n",
       "      <th>employee_residence</th>\n",
       "      <th>remote_ratio</th>\n",
       "      <th>company_location</th>\n",
       "      <th>company_size</th>\n",
       "    </tr>\n",
       "  </thead>\n",
       "  <tbody>\n",
       "    <tr>\n",
       "      <th>0</th>\n",
       "      <td>2024</td>\n",
       "      <td>SE</td>\n",
       "      <td>FT</td>\n",
       "      <td>Business Intelligence Developer</td>\n",
       "      <td>132000</td>\n",
       "      <td>USD</td>\n",
       "      <td>132000</td>\n",
       "      <td>US</td>\n",
       "      <td>0</td>\n",
       "      <td>US</td>\n",
       "      <td>M</td>\n",
       "    </tr>\n",
       "    <tr>\n",
       "      <th>1</th>\n",
       "      <td>2024</td>\n",
       "      <td>SE</td>\n",
       "      <td>FT</td>\n",
       "      <td>Business Intelligence Developer</td>\n",
       "      <td>90000</td>\n",
       "      <td>USD</td>\n",
       "      <td>90000</td>\n",
       "      <td>US</td>\n",
       "      <td>0</td>\n",
       "      <td>US</td>\n",
       "      <td>M</td>\n",
       "    </tr>\n",
       "    <tr>\n",
       "      <th>2</th>\n",
       "      <td>2024</td>\n",
       "      <td>EN</td>\n",
       "      <td>FT</td>\n",
       "      <td>Research Analyst</td>\n",
       "      <td>179000</td>\n",
       "      <td>USD</td>\n",
       "      <td>179000</td>\n",
       "      <td>US</td>\n",
       "      <td>0</td>\n",
       "      <td>US</td>\n",
       "      <td>M</td>\n",
       "    </tr>\n",
       "    <tr>\n",
       "      <th>3</th>\n",
       "      <td>2024</td>\n",
       "      <td>EN</td>\n",
       "      <td>FT</td>\n",
       "      <td>Research Analyst</td>\n",
       "      <td>112000</td>\n",
       "      <td>USD</td>\n",
       "      <td>112000</td>\n",
       "      <td>US</td>\n",
       "      <td>0</td>\n",
       "      <td>US</td>\n",
       "      <td>M</td>\n",
       "    </tr>\n",
       "    <tr>\n",
       "      <th>4</th>\n",
       "      <td>2024</td>\n",
       "      <td>SE</td>\n",
       "      <td>FT</td>\n",
       "      <td>Decision Scientist</td>\n",
       "      <td>170000</td>\n",
       "      <td>USD</td>\n",
       "      <td>170000</td>\n",
       "      <td>US</td>\n",
       "      <td>0</td>\n",
       "      <td>US</td>\n",
       "      <td>M</td>\n",
       "    </tr>\n",
       "  </tbody>\n",
       "</table>\n",
       "</div>"
      ],
      "text/plain": [
       "   work_year experience_level employment_type  \\\n",
       "0       2024               SE              FT   \n",
       "1       2024               SE              FT   \n",
       "2       2024               EN              FT   \n",
       "3       2024               EN              FT   \n",
       "4       2024               SE              FT   \n",
       "\n",
       "                         job_title  salary salary_currency  salary_in_usd  \\\n",
       "0  Business Intelligence Developer  132000             USD         132000   \n",
       "1  Business Intelligence Developer   90000             USD          90000   \n",
       "2                 Research Analyst  179000             USD         179000   \n",
       "3                 Research Analyst  112000             USD         112000   \n",
       "4               Decision Scientist  170000             USD         170000   \n",
       "\n",
       "  employee_residence  remote_ratio company_location company_size  \n",
       "0                 US             0               US            M  \n",
       "1                 US             0               US            M  \n",
       "2                 US             0               US            M  \n",
       "3                 US             0               US            M  \n",
       "4                 US             0               US            M  "
      ]
     },
     "execution_count": 7,
     "metadata": {},
     "output_type": "execute_result"
    }
   ],
   "source": [
    "df.head()"
   ]
  },
  {
   "cell_type": "markdown",
   "metadata": {},
   "source": [
    "Aqui iremos verificar as informações do dataset."
   ]
  },
  {
   "cell_type": "code",
   "execution_count": 8,
   "metadata": {},
   "outputs": [
    {
     "name": "stdout",
     "output_type": "stream",
     "text": [
      "<class 'pandas.core.frame.DataFrame'>\n",
      "RangeIndex: 20246 entries, 0 to 20245\n",
      "Data columns (total 11 columns):\n",
      " #   Column              Non-Null Count  Dtype \n",
      "---  ------              --------------  ----- \n",
      " 0   work_year           20246 non-null  int64 \n",
      " 1   experience_level    20246 non-null  object\n",
      " 2   employment_type     20246 non-null  object\n",
      " 3   job_title           20246 non-null  object\n",
      " 4   salary              20246 non-null  int64 \n",
      " 5   salary_currency     20246 non-null  object\n",
      " 6   salary_in_usd       20246 non-null  int64 \n",
      " 7   employee_residence  20246 non-null  object\n",
      " 8   remote_ratio        20246 non-null  int64 \n",
      " 9   company_location    20246 non-null  object\n",
      " 10  company_size        20246 non-null  object\n",
      "dtypes: int64(4), object(7)\n",
      "memory usage: 1.7+ MB\n"
     ]
    }
   ],
   "source": [
    "df.info()"
   ]
  },
  {
   "cell_type": "markdown",
   "metadata": {},
   "source": [
    "Insight: Aqui observamos que o dataset possue 20246 linhas e como afirma o autor da fonte de dados, a pesquisa foi realizada com profissionais de nível global, mas não identificamos no dataset ID ou nome associado a cada profissional, <br><br>\n",
    "\n",
    "Então podemos esperar que haja linhas duplicadas, mas não necessáriamente sejam dados duplicados, mas podem ser registros de profissionais diferentes."
   ]
  },
  {
   "cell_type": "markdown",
   "metadata": {},
   "source": [
    "## <br><center>3. Limpeza e Transformação dos dados</center><br>"
   ]
  },
  {
   "cell_type": "markdown",
   "metadata": {},
   "source": [
    "Verificando se o dataset possue valores ausentes por quantidade."
   ]
  },
  {
   "cell_type": "code",
   "execution_count": 9,
   "metadata": {},
   "outputs": [
    {
     "data": {
      "text/plain": [
       "work_year             0\n",
       "experience_level      0\n",
       "employment_type       0\n",
       "job_title             0\n",
       "salary                0\n",
       "salary_currency       0\n",
       "salary_in_usd         0\n",
       "employee_residence    0\n",
       "remote_ratio          0\n",
       "company_location      0\n",
       "company_size          0\n",
       "dtype: int64"
      ]
     },
     "execution_count": 9,
     "metadata": {},
     "output_type": "execute_result"
    }
   ],
   "source": [
    "df.isnull().sum()"
   ]
  },
  {
   "cell_type": "markdown",
   "metadata": {},
   "source": [
    "Agora iremos substituir as abreviações em cada coluna começando por 'experience_level'"
   ]
  },
  {
   "cell_type": "code",
   "execution_count": 10,
   "metadata": {},
   "outputs": [
    {
     "data": {
      "text/plain": [
       "array(['SE', 'EN', 'MI', 'EX'], dtype=object)"
      ]
     },
     "execution_count": 10,
     "metadata": {},
     "output_type": "execute_result"
    }
   ],
   "source": [
    "# Podemos identificar 4 níveis de experiência\n",
    "df.experience_level.unique()"
   ]
  },
  {
   "cell_type": "code",
   "execution_count": 11,
   "metadata": {},
   "outputs": [],
   "source": [
    "# Realizando a substituição\n",
    "exp_level = {\n",
    "            'SE': 'Senior',\n",
    "            'EN': 'Junior',\n",
    "            'MI': 'Intermediate',\n",
    "            'EX': 'Executive' }\n",
    "\n",
    "df['experience_level'] = df['experience_level'].replace(exp_level)"
   ]
  },
  {
   "cell_type": "markdown",
   "metadata": {},
   "source": [
    "Utilizaremos a mesma técnica para as colunas 'employment_type'"
   ]
  },
  {
   "cell_type": "code",
   "execution_count": 12,
   "metadata": {},
   "outputs": [
    {
     "data": {
      "text/plain": [
       "array(['FT', 'PT', 'CT', 'FL'], dtype=object)"
      ]
     },
     "execution_count": 12,
     "metadata": {},
     "output_type": "execute_result"
    }
   ],
   "source": [
    "# Podemos identificar 4 modalidades de regime de trabalho\n",
    "df.employment_type.unique()"
   ]
  },
  {
   "cell_type": "code",
   "execution_count": 13,
   "metadata": {},
   "outputs": [],
   "source": [
    "# Realizando a substituição\n",
    "emp_type = {\n",
    "            'FT': 'Full-time',\n",
    "            'PT': 'Part-time',\n",
    "            'CT': 'Contract',\n",
    "            'FL': 'Freelance' }\n",
    "\n",
    "df['employment_type'] = df['employment_type'].replace(emp_type)"
   ]
  },
  {
   "cell_type": "markdown",
   "metadata": {},
   "source": [
    "Agora iremos substituir as abreviações da coluna 'employee_residence' e 'company_location'"
   ]
  },
  {
   "cell_type": "code",
   "execution_count": 14,
   "metadata": {},
   "outputs": [],
   "source": [
    "countries = {'US': 'United States', \n",
    "               'CA': 'Canada', \n",
    "               'DE': 'Germany', \n",
    "               'GB': 'United Kingdom', \n",
    "               'MX': 'Mexico', \n",
    "               'NL': 'Netherlands', \n",
    "               'AU': 'Australia', \n",
    "               'ZA': 'South Africa', \n",
    "               'IE': 'Ireland', \n",
    "               'TR': 'Turkey', \n",
    "               'IL': 'Israel', \n",
    "               'IN': 'India', \n",
    "               'FI': 'Finland', \n",
    "               'LU': 'Luxembourg', \n",
    "               'KE': 'Kenya', \n",
    "               'RS': 'Serbia', \n",
    "               'PT': 'Portugal', \n",
    "               'AR': 'Argentina', \n",
    "               'NZ': 'New Zealand', \n",
    "               'UA': 'Ukraine', \n",
    "               'LT': 'Lithuania', \n",
    "               'FR': 'France', \n",
    "               'ES': 'Spain', \n",
    "               'SE': 'Sweden', \n",
    "               'PL': 'Poland', \n",
    "               'DK': 'Denmark', \n",
    "               'LV': 'Latvia', \n",
    "               'GE': 'Georgia', \n",
    "               'AT': 'Austria', \n",
    "               'HR': 'Croatia', \n",
    "               'BR': 'Brazil', \n",
    "               'CH': 'Switzerland', \n",
    "               'AE': 'United Arab Emirates', \n",
    "               'GR': 'Greece', \n",
    "               'SA': 'Saudi Arabia', \n",
    "               'EG': 'Egypt', \n",
    "               'PH': 'Philippines', \n",
    "               'OM': 'Oman', \n",
    "               'BA': 'Bosnia and Herzegovina', \n",
    "               'IT': 'Italy', \n",
    "               'EE': 'Estonia', \n",
    "               'MT': 'Malta', \n",
    "               'LB': 'Lebnon', \n",
    "               'RO': 'Romania', \n",
    "               'HU': 'Hungary', \n",
    "               'VN': 'Vietnam', \n",
    "               'NG': 'Nigeria', \n",
    "               'CZ': 'Czech Republic', \n",
    "               'PK': 'Pakistan', \n",
    "               'UG': 'Uganda', \n",
    "               'CO': 'Colombia', \n",
    "               'SI': 'Slovenia', \n",
    "               'MU': 'Mauritius', \n",
    "               'AM': 'Armenia', \n",
    "               'TH': 'Thailand', \n",
    "               'KR': 'Korea', \n",
    "               'QA': 'Qatar', \n",
    "               'RU': 'Russian Federation', \n",
    "               'TN': 'Tunisia', \n",
    "               'GH': 'Ghana', \n",
    "               'BE': 'Belgium', \n",
    "               'AD': 'Andorra', \n",
    "               'EC': 'Ecuador', \n",
    "               'PE': 'Peru', \n",
    "               'MD': 'Moldova', \n",
    "               'NO': 'Norway',\n",
    "               'UZ': 'Uzbekistan', \n",
    "               'JP': 'Japan', \n",
    "               'HK': 'Hong Kong', \n",
    "               'CF': 'Central African Republic', \n",
    "               'SG': 'Singapore', \n",
    "               'KW': 'Kuwait', \n",
    "               'CY': 'Cyprus', \n",
    "               'IR': 'Iran', \n",
    "               'AS': 'Somoa', \n",
    "               'CN': 'China', \n",
    "               'CR': 'Costa Rica', \n",
    "               'CL': 'Chile', \n",
    "               'PR': 'Puerto Rico', \n",
    "               'BO': 'Bolivia', \n",
    "               'DO': 'Dominican Republic', \n",
    "               'ID': 'Indonesia', \n",
    "               'MY': 'Malaysia', \n",
    "               'HN': 'Honduras', \n",
    "               'DZ': 'Algeria', \n",
    "               'IQ': 'Iraq', \n",
    "               'BG': 'Bulgaria', \n",
    "               'JE': 'Jersey',\n",
    "               'BS': 'Bahamas',\n",
    "               'GI': 'Gibraltar'}\n",
    "\n",
    "df['employee_residence'] = df['employee_residence'].replace(countries)\n",
    "df['company_location'] = df['company_location'].replace(countries)"
   ]
  },
  {
   "cell_type": "markdown",
   "metadata": {},
   "source": [
    "Agora faremos a substituição da coluna que identifica a modalidade de Trabalho Presencial, Híbrido ou Remoto: 'remote_ratio'"
   ]
  },
  {
   "cell_type": "code",
   "execution_count": 15,
   "metadata": {},
   "outputs": [],
   "source": [
    "# Realizando a substituição\n",
    "remote = {\n",
    "            0: 'No remote work',\n",
    "            50: 'Hybrid',\n",
    "            100: 'Fully remote' }\n",
    "\n",
    "df['remote_ratio'] = df['remote_ratio'].replace(remote)"
   ]
  },
  {
   "cell_type": "markdown",
   "metadata": {},
   "source": [
    "Agora a coluna 'company_size' que representa o tamanho da companhia"
   ]
  },
  {
   "cell_type": "code",
   "execution_count": 16,
   "metadata": {},
   "outputs": [],
   "source": [
    "# Realizando a substituição\n",
    "comp_size = {\n",
    "            'S': '0-49',\n",
    "            'M': '50-250',\n",
    "            'L': '250+' }\n",
    "\n",
    "df['company_size'] = df['company_size'].replace(comp_size)"
   ]
  },
  {
   "cell_type": "markdown",
   "metadata": {},
   "source": [
    "Por ultimo iremos utilizar Feature Engineering para categorizar os diversos títulos atribuídos as profissões."
   ]
  },
  {
   "cell_type": "code",
   "execution_count": 17,
   "metadata": {},
   "outputs": [
    {
     "data": {
      "text/plain": [
       "(151,)"
      ]
     },
     "execution_count": 17,
     "metadata": {},
     "output_type": "execute_result"
    }
   ],
   "source": [
    "# 151 Tipos de profissões diferentes envolvendo dados.\n",
    "df.job_title.value_counts().shape"
   ]
  },
  {
   "cell_type": "code",
   "execution_count": 18,
   "metadata": {},
   "outputs": [
    {
     "name": "stderr",
     "output_type": "stream",
     "text": [
      "C:\\Users\\Lucas\\AppData\\Local\\Temp\\ipykernel_8100\\4061857720.py:15: FutureWarning: Setting an item of incompatible dtype is deprecated and will raise an error in a future version of pandas. Value 'Business Intelligence' has dtype incompatible with bool, please explicitly cast to a compatible dtype first.\n",
      "  df.loc[index, 'category_job'] = 'Business Intelligence'\n"
     ]
    }
   ],
   "source": [
    "bi = ['Business', 'Intelligence', 'Business Intelligence', 'BI', 'Power BI' ]\n",
    "ai = ['AI', 'Machine', 'Learning', 'ML',  'NLP Engineer', 'Vision', 'Autonomous']\n",
    "da = ['Analyst', 'Analytics', 'Visualization' ]\n",
    "de = ['Engineer', 'Modeler', 'ETL', 'Cloud', 'Robotics', 'Big']\n",
    "ds = ['Scientist', 'Science', 'Research', 'Biologist', 'Robotics', 'Statistical', 'Specialist', 'Developer']\n",
    "ar = ['Architect', 'Integration']\n",
    "mn = ['Manager', 'Management', 'Head', 'Lead', 'Strategist', 'Product', 'Operations']\n",
    "\n",
    "df['category_job'] = False\n",
    "\n",
    "for index, row in df.iterrows():\n",
    "    linha = row['job_title']\n",
    "\n",
    "    if any(substring in linha for substring in bi)  & (df.loc[index, 'category_job'] == False):\n",
    "        df.loc[index, 'category_job'] = 'Business Intelligence'\n",
    "\n",
    "    elif any(substring in linha for substring in ai)  & (df.loc[index, 'category_job'] == False):\n",
    "        df.loc[index, 'category_job'] = 'AI/ML'\n",
    "\n",
    "    elif any(substring in linha for substring in de)  & (df.loc[index, 'category_job'] == False):\n",
    "        df.loc[index, 'category_job'] = 'Data Engineering'\n",
    "\n",
    "    elif any(substring in linha for substring in da)  & (df.loc[index, 'category_job'] == False):\n",
    "        df.loc[index, 'category_job'] = 'Data Analysis'\n",
    "\n",
    "    elif any(substring in linha for substring in ds)  & (df.loc[index, 'category_job'] == False):\n",
    "        df.loc[index, 'category_job'] = 'Data Science'\n",
    "\n",
    "    elif any(substring in linha for substring in ar)  & (df.loc[index, 'category_job'] == False):\n",
    "        df.loc[index, 'category_job'] = 'Data Architecture'\n",
    "        \n",
    "    else:\n",
    "        df.loc[index, 'category_job'] = 'Data Management'\n",
    "\n",
    "\n"
   ]
  },
  {
   "cell_type": "code",
   "execution_count": 19,
   "metadata": {},
   "outputs": [
    {
     "data": {
      "text/plain": [
       "category_job\n",
       "Data Science             6504\n",
       "Data Engineering         5353\n",
       "Data Analysis            3370\n",
       "AI/ML                    2955\n",
       "Business Intelligence    1050\n",
       "Data Architecture         527\n",
       "Data Management           487\n",
       "Name: count, dtype: int64"
      ]
     },
     "execution_count": 19,
     "metadata": {},
     "output_type": "execute_result"
    }
   ],
   "source": [
    "# Conseguimos atribuir 7 categorias para 'job_title'\n",
    "df.category_job.value_counts()"
   ]
  },
  {
   "cell_type": "markdown",
   "metadata": {},
   "source": [
    "Agora iremos categorizar de acordo com o continente."
   ]
  },
  {
   "cell_type": "code",
   "execution_count": 20,
   "metadata": {},
   "outputs": [],
   "source": [
    "africa = ['Kenya', 'South Africa', 'Egypt', 'Nigeria', 'Uganda', 'Mauritius', 'Tunisia', 'Ghana', 'Central African Republic', 'Algeria']\n",
    "\n",
    "asia = ['Turkey', 'Israel', 'India', 'United Arab Emirates', 'Saudi Arabia', 'Philippines', 'Oman', 'Vietnam', 'Pakistan', 'Armenia',\n",
    "        'Thailand', 'Korea', 'Qatar', 'Uzbekistan', 'Japan', 'Hong Kong', 'Singapore', 'Kuwait', 'Iran', 'China', 'Indonesia',\n",
    "        'Malaysia', 'Iraq']\n",
    "\n",
    "europe = ['Germany', 'United Kingdom', 'Netherlands', 'Ireland', 'Finland', 'Luxembourg', 'Serbia', 'Portugal', 'Ukraine', 'Lithuania', \n",
    "           'France', 'Spain', 'Sweden', 'Poland', 'Denmark', 'Latvia', 'Georgia', 'Austria', 'Croatia', 'Switzerland', 'Greece',\n",
    "            'Bosnia and Herzegovina', 'Italy', 'Estonia', 'Malta', 'Lebnon', 'Romania', 'Hungary', 'Czech Republic',  'Slovenia',\n",
    "            'Russian Federation', 'Belgium', 'Andorra', 'Moldova', 'Norway', 'Cyprus', 'Bulgaria', 'Jersey', 'Gibraltar']\n",
    "\n",
    "north_america = ['United States', 'Canada']\n",
    "\n",
    "central_america = ['Mexico', 'Costa Rica', 'Puerto Rico', 'Dominican Republic', 'Honduras', 'Bahamas']\n",
    "\n",
    "south_america = ['Argentina', 'Brazil', 'Colombia', 'Ecuador', 'Peru', 'Chile', 'Bolivia']\n",
    "\n",
    "oceania = ['Australia', 'New Zealand', 'Somoa']\n",
    "\n",
    "def continents(col1, col2):\n",
    "    for index, row in df.iterrows():\n",
    "        linha = row[col1]\n",
    "\n",
    "        if any(substring in linha for substring in africa):\n",
    "            df.loc[index, col2] = 'Africa'\n",
    "        \n",
    "        elif any(substring in linha for substring in asia):\n",
    "            df.loc[index, col2] = 'Asia'\n",
    "\n",
    "        elif any(substring in linha for substring in europe):\n",
    "            df.loc[index, col2] = 'Europe'\n",
    "\n",
    "        elif any(substring in linha for substring in north_america):\n",
    "            df.loc[index, col2] = 'North America'\n",
    "        \n",
    "        elif any(substring in linha for substring in central_america):\n",
    "            df.loc[index, col2] = 'Central America'\n",
    "        \n",
    "        elif any(substring in linha for substring in south_america):\n",
    "            df.loc[index, col2] = 'South America'\n",
    "        \n",
    "        else:\n",
    "            df.loc[index, col2] = 'Oceania'\n",
    "\n",
    "continents('employee_residence', 'employee_continent')\n",
    "continents('company_location', 'company_continent')"
   ]
  },
  {
   "cell_type": "markdown",
   "metadata": {},
   "source": [
    "Vamos agora procurar por Outliers na coluna 'salary_in_usd'"
   ]
  },
  {
   "cell_type": "code",
   "execution_count": 21,
   "metadata": {},
   "outputs": [
    {
     "data": {
      "text/plain": [
       "Index(['work_year', 'experience_level', 'employment_type', 'job_title',\n",
       "       'salary', 'salary_currency', 'salary_in_usd', 'employee_residence',\n",
       "       'remote_ratio', 'company_location', 'company_size', 'category_job',\n",
       "       'employee_continent', 'company_continent'],\n",
       "      dtype='object')"
      ]
     },
     "execution_count": 21,
     "metadata": {},
     "output_type": "execute_result"
    }
   ],
   "source": [
    "df.columns"
   ]
  },
  {
   "cell_type": "code",
   "execution_count": 22,
   "metadata": {},
   "outputs": [
    {
     "data": {
      "text/plain": [
       "<Axes: xlabel='salary_in_usd', ylabel='experience_level'>"
      ]
     },
     "execution_count": 22,
     "metadata": {},
     "output_type": "execute_result"
    },
    {
     "data": {
      "image/png": "[encoded data removed]",
      "text/plain": [
       "<Figure size 640x480 with 1 Axes>"
      ]
     },
     "metadata": {},
     "output_type": "display_data"
    }
   ],
   "source": [
    "sns.boxplot( data = df, x = 'salary_in_usd', y = 'experience_level')"
   ]
  },
  {
   "cell_type": "code",
   "execution_count": 23,
   "metadata": {},
   "outputs": [
    {
     "data": {
      "text/html": [
       "<div>\n",
       "<style scoped>\n",
       "    .dataframe tbody tr th:only-of-type {\n",
       "        vertical-align: middle;\n",
       "    }\n",
       "\n",
       "    .dataframe tbody tr th {\n",
       "        vertical-align: top;\n",
       "    }\n",
       "\n",
       "    .dataframe thead th {\n",
       "        text-align: right;\n",
       "    }\n",
       "</style>\n",
       "<table border=\"1\" class=\"dataframe\">\n",
       "  <thead>\n",
       "    <tr style=\"text-align: right;\">\n",
       "      <th></th>\n",
       "      <th>employee_residence</th>\n",
       "      <th>job_title</th>\n",
       "      <th>experience_level</th>\n",
       "      <th>salary_in_usd</th>\n",
       "      <th>company_size</th>\n",
       "    </tr>\n",
       "  </thead>\n",
       "  <tbody>\n",
       "    <tr>\n",
       "      <th>318</th>\n",
       "      <td>United States</td>\n",
       "      <td>Data Engineer</td>\n",
       "      <td>Senior</td>\n",
       "      <td>720000</td>\n",
       "      <td>50-250</td>\n",
       "    </tr>\n",
       "    <tr>\n",
       "      <th>709</th>\n",
       "      <td>United States</td>\n",
       "      <td>Analytics Engineer</td>\n",
       "      <td>Intermediate</td>\n",
       "      <td>720000</td>\n",
       "      <td>50-250</td>\n",
       "    </tr>\n",
       "    <tr>\n",
       "      <th>1744</th>\n",
       "      <td>United States</td>\n",
       "      <td>Research Scientist</td>\n",
       "      <td>Senior</td>\n",
       "      <td>720000</td>\n",
       "      <td>50-250</td>\n",
       "    </tr>\n",
       "    <tr>\n",
       "      <th>2327</th>\n",
       "      <td>United States</td>\n",
       "      <td>Analytics Engineer</td>\n",
       "      <td>Senior</td>\n",
       "      <td>720000</td>\n",
       "      <td>50-250</td>\n",
       "    </tr>\n",
       "    <tr>\n",
       "      <th>4105</th>\n",
       "      <td>United States</td>\n",
       "      <td>Analytics Engineer</td>\n",
       "      <td>Senior</td>\n",
       "      <td>720000</td>\n",
       "      <td>50-250</td>\n",
       "    </tr>\n",
       "    <tr>\n",
       "      <th>5855</th>\n",
       "      <td>United States</td>\n",
       "      <td>Machine Learning Scientist</td>\n",
       "      <td>Intermediate</td>\n",
       "      <td>720000</td>\n",
       "      <td>50-250</td>\n",
       "    </tr>\n",
       "    <tr>\n",
       "      <th>6014</th>\n",
       "      <td>United States</td>\n",
       "      <td>Data Scientist</td>\n",
       "      <td>Senior</td>\n",
       "      <td>720000</td>\n",
       "      <td>50-250</td>\n",
       "    </tr>\n",
       "    <tr>\n",
       "      <th>6516</th>\n",
       "      <td>Canada</td>\n",
       "      <td>AI Architect</td>\n",
       "      <td>Intermediate</td>\n",
       "      <td>800000</td>\n",
       "      <td>50-250</td>\n",
       "    </tr>\n",
       "    <tr>\n",
       "      <th>7359</th>\n",
       "      <td>Mexico</td>\n",
       "      <td>Data Analyst</td>\n",
       "      <td>Junior</td>\n",
       "      <td>774000</td>\n",
       "      <td>50-250</td>\n",
       "    </tr>\n",
       "    <tr>\n",
       "      <th>7367</th>\n",
       "      <td>United States</td>\n",
       "      <td>Analytics Engineer</td>\n",
       "      <td>Intermediate</td>\n",
       "      <td>720000</td>\n",
       "      <td>50-250</td>\n",
       "    </tr>\n",
       "    <tr>\n",
       "      <th>7842</th>\n",
       "      <td>United States</td>\n",
       "      <td>Analytics Engineer</td>\n",
       "      <td>Senior</td>\n",
       "      <td>720000</td>\n",
       "      <td>50-250</td>\n",
       "    </tr>\n",
       "    <tr>\n",
       "      <th>8022</th>\n",
       "      <td>United States</td>\n",
       "      <td>Data Scientist</td>\n",
       "      <td>Senior</td>\n",
       "      <td>720000</td>\n",
       "      <td>50-250</td>\n",
       "    </tr>\n",
       "    <tr>\n",
       "      <th>8158</th>\n",
       "      <td>United States</td>\n",
       "      <td>Analytics Engineer</td>\n",
       "      <td>Senior</td>\n",
       "      <td>750000</td>\n",
       "      <td>50-250</td>\n",
       "    </tr>\n",
       "    <tr>\n",
       "      <th>8334</th>\n",
       "      <td>United States</td>\n",
       "      <td>Machine Learning Scientist</td>\n",
       "      <td>Intermediate</td>\n",
       "      <td>750000</td>\n",
       "      <td>50-250</td>\n",
       "    </tr>\n",
       "    <tr>\n",
       "      <th>8745</th>\n",
       "      <td>United States</td>\n",
       "      <td>Data Analyst</td>\n",
       "      <td>Senior</td>\n",
       "      <td>750000</td>\n",
       "      <td>50-250</td>\n",
       "    </tr>\n",
       "    <tr>\n",
       "      <th>9520</th>\n",
       "      <td>United States</td>\n",
       "      <td>Machine Learning Scientist</td>\n",
       "      <td>Intermediate</td>\n",
       "      <td>750000</td>\n",
       "      <td>50-250</td>\n",
       "    </tr>\n",
       "    <tr>\n",
       "      <th>9550</th>\n",
       "      <td>United States</td>\n",
       "      <td>Research Engineer</td>\n",
       "      <td>Intermediate</td>\n",
       "      <td>720000</td>\n",
       "      <td>50-250</td>\n",
       "    </tr>\n",
       "    <tr>\n",
       "      <th>9560</th>\n",
       "      <td>United States</td>\n",
       "      <td>Research Scientist</td>\n",
       "      <td>Intermediate</td>\n",
       "      <td>720000</td>\n",
       "      <td>50-250</td>\n",
       "    </tr>\n",
       "    <tr>\n",
       "      <th>9564</th>\n",
       "      <td>United States</td>\n",
       "      <td>Research Engineer</td>\n",
       "      <td>Intermediate</td>\n",
       "      <td>720000</td>\n",
       "      <td>50-250</td>\n",
       "    </tr>\n",
       "    <tr>\n",
       "      <th>10118</th>\n",
       "      <td>United States</td>\n",
       "      <td>Machine Learning Scientist</td>\n",
       "      <td>Intermediate</td>\n",
       "      <td>750000</td>\n",
       "      <td>50-250</td>\n",
       "    </tr>\n",
       "    <tr>\n",
       "      <th>10124</th>\n",
       "      <td>United States</td>\n",
       "      <td>Machine Learning Engineer</td>\n",
       "      <td>Intermediate</td>\n",
       "      <td>750000</td>\n",
       "      <td>50-250</td>\n",
       "    </tr>\n",
       "    <tr>\n",
       "      <th>10427</th>\n",
       "      <td>United States</td>\n",
       "      <td>Analytics Engineer</td>\n",
       "      <td>Senior</td>\n",
       "      <td>700000</td>\n",
       "      <td>50-250</td>\n",
       "    </tr>\n",
       "    <tr>\n",
       "      <th>11054</th>\n",
       "      <td>United States</td>\n",
       "      <td>Analytics Engineer</td>\n",
       "      <td>Intermediate</td>\n",
       "      <td>700000</td>\n",
       "      <td>50-250</td>\n",
       "    </tr>\n",
       "    <tr>\n",
       "      <th>11102</th>\n",
       "      <td>United States</td>\n",
       "      <td>Data Engineer</td>\n",
       "      <td>Intermediate</td>\n",
       "      <td>750000</td>\n",
       "      <td>50-250</td>\n",
       "    </tr>\n",
       "    <tr>\n",
       "      <th>11210</th>\n",
       "      <td>United States</td>\n",
       "      <td>Data Scientist</td>\n",
       "      <td>Senior</td>\n",
       "      <td>750000</td>\n",
       "      <td>50-250</td>\n",
       "    </tr>\n",
       "  </tbody>\n",
       "</table>\n",
       "</div>"
      ],
      "text/plain": [
       "      employee_residence                   job_title experience_level  \\\n",
       "318        United States               Data Engineer           Senior   \n",
       "709        United States          Analytics Engineer     Intermediate   \n",
       "1744       United States          Research Scientist           Senior   \n",
       "2327       United States          Analytics Engineer           Senior   \n",
       "4105       United States          Analytics Engineer           Senior   \n",
       "5855       United States  Machine Learning Scientist     Intermediate   \n",
       "6014       United States              Data Scientist           Senior   \n",
       "6516              Canada                AI Architect     Intermediate   \n",
       "7359              Mexico                Data Analyst           Junior   \n",
       "7367       United States          Analytics Engineer     Intermediate   \n",
       "7842       United States          Analytics Engineer           Senior   \n",
       "8022       United States              Data Scientist           Senior   \n",
       "8158       United States          Analytics Engineer           Senior   \n",
       "8334       United States  Machine Learning Scientist     Intermediate   \n",
       "8745       United States                Data Analyst           Senior   \n",
       "9520       United States  Machine Learning Scientist     Intermediate   \n",
       "9550       United States           Research Engineer     Intermediate   \n",
       "9560       United States          Research Scientist     Intermediate   \n",
       "9564       United States           Research Engineer     Intermediate   \n",
       "10118      United States  Machine Learning Scientist     Intermediate   \n",
       "10124      United States   Machine Learning Engineer     Intermediate   \n",
       "10427      United States          Analytics Engineer           Senior   \n",
       "11054      United States          Analytics Engineer     Intermediate   \n",
       "11102      United States               Data Engineer     Intermediate   \n",
       "11210      United States              Data Scientist           Senior   \n",
       "\n",
       "       salary_in_usd company_size  \n",
       "318           720000       50-250  \n",
       "709           720000       50-250  \n",
       "1744          720000       50-250  \n",
       "2327          720000       50-250  \n",
       "4105          720000       50-250  \n",
       "5855          720000       50-250  \n",
       "6014          720000       50-250  \n",
       "6516          800000       50-250  \n",
       "7359          774000       50-250  \n",
       "7367          720000       50-250  \n",
       "7842          720000       50-250  \n",
       "8022          720000       50-250  \n",
       "8158          750000       50-250  \n",
       "8334          750000       50-250  \n",
       "8745          750000       50-250  \n",
       "9520          750000       50-250  \n",
       "9550          720000       50-250  \n",
       "9560          720000       50-250  \n",
       "9564          720000       50-250  \n",
       "10118         750000       50-250  \n",
       "10124         750000       50-250  \n",
       "10427         700000       50-250  \n",
       "11054         700000       50-250  \n",
       "11102         750000       50-250  \n",
       "11210         750000       50-250  "
      ]
     },
     "execution_count": 23,
     "metadata": {},
     "output_type": "execute_result"
    }
   ],
   "source": [
    "columns = ('employee_residence', 'job_title', 'experience_level', 'salary_in_usd', 'company_size')\n",
    "df.loc[df['salary_in_usd'] > 600000, columns]"
   ]
  },
  {
   "cell_type": "markdown",
   "metadata": {},
   "source": [
    "Vamos fazer uma verificação nos dados estatísticos do nível de junior para melhor compreender o possível Outlier no Cargo de Data Analyst."
   ]
  },
  {
   "cell_type": "code",
   "execution_count": 24,
   "metadata": {},
   "outputs": [
    {
     "data": {
      "text/plain": [
       "count      1676.000000\n",
       "mean      93929.156921\n",
       "std       51319.212332\n",
       "min       15000.000000\n",
       "25%       60000.000000\n",
       "50%       83300.000000\n",
       "75%      118000.000000\n",
       "max      774000.000000\n",
       "Name: salary_in_usd, dtype: float64"
      ]
     },
     "execution_count": 24,
     "metadata": {},
     "output_type": "execute_result"
    }
   ],
   "source": [
    "df.loc[df['experience_level'] == 'Junior', :].salary_in_usd.describe()"
   ]
  },
  {
   "cell_type": "markdown",
   "metadata": {},
   "source": [
    "Foi verificado que há uma grande chance desse registro ter sido inserido incorretamente, pois o valor do salário é muito discrepante para o nível de experiência. <br>\n",
    "\n",
    "Assim o valor será descartado para não influênciar nos cálculos estatísticos."
   ]
  },
  {
   "cell_type": "code",
   "execution_count": 25,
   "metadata": {},
   "outputs": [],
   "source": [
    "df.drop(index = 7359, inplace = True)"
   ]
  },
  {
   "cell_type": "markdown",
   "metadata": {},
   "source": [
    "## <center>4. Salvando conjunto de dados</center>"
   ]
  },
  {
   "cell_type": "code",
   "execution_count": 26,
   "metadata": {},
   "outputs": [],
   "source": [
    "# df.to_csv('global_ai_ml_data_salaries_clean.csv', index = False)"
   ]
  },
  {
   "cell_type": "code",
   "execution_count": 31,
   "metadata": {},
   "outputs": [
    {
     "data": {
      "text/plain": [
       "employee_continent\n",
       "North America      18462\n",
       "Europe              1400\n",
       "Asia                 160\n",
       "Oceania               73\n",
       "Africa                64\n",
       "South America         61\n",
       "Central America       25\n",
       "Name: count, dtype: int64"
      ]
     },
     "execution_count": 31,
     "metadata": {},
     "output_type": "execute_result"
    }
   ],
   "source": [
    "df.employee_continent.value_counts()"
   ]
  }
 ],
 "metadata": {
  "kernelspec": {
   "display_name": "Python 3 (ipykernel)",
   "language": "python",
   "name": "python3"
  },
  "language_info": {
   "codemirror_mode": {
    "name": "ipython",
    "version": 3
   },
   "file_extension": ".py",
   "mimetype": "text/x-python",
   "name": "python",
   "nbconvert_exporter": "python",
   "pygments_lexer": "ipython3",
   "version": "3.12.4"
  }
 },
 "nbformat": 4,
 "nbformat_minor": 4
}
